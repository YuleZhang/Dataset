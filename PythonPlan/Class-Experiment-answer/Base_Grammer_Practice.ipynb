{
 "cells": [
  {
   "cell_type": "code",
   "execution_count": 1,
   "metadata": {
    "collapsed": false
   },
   "outputs": [
    {
     "name": "stdout",
     "output_type": "stream",
     "text": [
      "请输入姓名 科目 成绩，输入q结束：张三 数学 68\n",
      "请输入姓名 科目 成绩，输入q结束：张三 英语 88\n",
      "请输入姓名 科目 成绩，输入q结束：张三 python 99\n",
      "请输入姓名 科目 成绩，输入q结束：q\n",
      "班级平均学分绩969.0\n",
      "第一名是张三，其GPA为69.21428571428571\n",
      "最后一名是，其GPA为inf\n"
     ]
    }
   ],
   "source": [
    "def getStudentInfo():\n",
    "    get_str = \"\"\n",
    "    student_name = [] #学生姓名\n",
    "    student_sub = []  #学生科目\n",
    "    student_grade = [] #学生成绩\n",
    "    while get_str!='q':\n",
    "        get_str = input(\"请输入姓名 科目 成绩，输入q结束：\")\n",
    "        if(get_str != 'q'):\n",
    "            name = get_str.split()[0]\n",
    "            subject = get_str.split()[1]\n",
    "            grade = get_str.split()[2]\n",
    "            student_name.append(name)\n",
    "            student_sub.append(subject)\n",
    "            student_grade.append(grade)\n",
    "    student_info = {'姓名':student_name, '科目':student_sub, '成绩':student_grade}\n",
    "    return student_info\n",
    "def studentGrade(student_info):\n",
    "    sub_credit = {'数学': 6, '英语': 3, 'python': 3, '大数据概论': 2} #课程学分\n",
    "    stu_grade = {}\n",
    "    length = len(student_info['姓名'])\n",
    "    for i in student_info['姓名']:\n",
    "        sum_grade = 0\n",
    "        for j in range(0, length):\n",
    "            if student_info['姓名'][j] == i:\n",
    "                sum_grade += sub_credit[student_info['科目'][j]] * int(student_info['成绩'][j])\n",
    "        stu_grade[i] = sum_grade\n",
    "    return stu_grade\n",
    "def averageGrade(stu_grade):\n",
    "    sum_ = 0\n",
    "    for i in stu_grade:\n",
    "        sum_ += stu_grade[i]\n",
    "    avg_grade = sum_ / len(stu_grade)\n",
    "    return avg_grade\n",
    "if __name__ == '__main__':\n",
    "    std_info = {}\n",
    "    std_grade = {}\n",
    "    MAX_NAME = ''\n",
    "    MIN_NAME = ''\n",
    "    GPA_MAX = 0\n",
    "    GPA_MIN = float(\"inf\") #无穷大\n",
    "    std_info = getStudentInfo()\n",
    "    std_grade = studentGrade(std_info)\n",
    "    print('班级平均学分绩{0}'.format(averageGrade(std_grade)))\n",
    "    for i in std_grade:\n",
    "        if std_grade[i] > GPA_MAX:\n",
    "            MAX_NAME = i\n",
    "            GPA_MAX = std_grade[i]\n",
    "        elif std_grade[i] < GPA_MIN:\n",
    "            MIN_NAME = i\n",
    "            GPA_MIN = std_grade[i]\n",
    "    print('第一名是{0}，其GPA为{1}'.format(MAX_NAME, GPA_MAX / 14))\n",
    "    print('最后一名是{0}，其GPA为{1}'.format(MIN_NAME, GPA_MIN / 14))"
   ]
  },
  {
   "cell_type": "code",
   "execution_count": null,
   "metadata": {
    "collapsed": true
   },
   "outputs": [],
   "source": []
  }
 ],
 "metadata": {
  "anaconda-cloud": {},
  "kernelspec": {
   "display_name": "Python [conda root]",
   "language": "python",
   "name": "conda-root-py"
  },
  "language_info": {
   "codemirror_mode": {
    "name": "ipython",
    "version": 3
   },
   "file_extension": ".py",
   "mimetype": "text/x-python",
   "name": "python",
   "nbconvert_exporter": "python",
   "pygments_lexer": "ipython3",
   "version": "3.5.2"
  }
 },
 "nbformat": 4,
 "nbformat_minor": 1
}
