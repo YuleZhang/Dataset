{
 "cells": [
  {
   "cell_type": "code",
   "execution_count": 1,
   "metadata": {
    "collapsed": false
   },
   "outputs": [
    {
     "name": "stderr",
     "output_type": "stream",
     "text": [
      "Building prefix dict from the default dictionary ...\n",
      "Loading model from cache C:\\Users\\ADMINI~1\\AppData\\Local\\Temp\\jieba.cache\n",
      "Loading model cost 0.870 seconds.\n",
      "Prefix dict has been built succesfully.\n"
     ]
    },
    {
     "name": "stdout",
     "output_type": "stream",
     "text": [
      "贾宝玉        3844\n",
      "王熙凤        1171\n",
      "贾母         1049\n",
      "王夫人        1011\n",
      "林黛玉         786\n",
      "薛宝钗         676\n",
      "平儿          588\n",
      "袭人          585\n",
      "鸳鸯          425\n",
      "贾政          350\n"
     ]
    }
   ],
   "source": [
    "import jieba\n",
    "def readPersonName():\n",
    "    names = []\n",
    "    try:\n",
    "        with open(\"红楼梦人物列表.txt\", encoding=\"UTF-8\") as f :\n",
    "            for name_line in f:\n",
    "                if name_line != '\\n':\n",
    "                    for i in name_line.split('：')[1].split('、'):\n",
    "                        names.append(i.strip())\n",
    "    except FileNotFoundError:\n",
    "        print(\"读取文件出错\")\n",
    "    names = list(set(names))\n",
    "    return names\n",
    "def readPersonNickName():\n",
    "    nick_name = []\n",
    "    try:\n",
    "        with open(\"红楼梦人物别名.txt\", encoding=\"UTF-8-sig\") as f :\n",
    "            for name_line in f:\n",
    "                list_name = []\n",
    "                if name_line != '\\n':\n",
    "                    for i in name_line.split(' '):\n",
    "                        list_name.append(i.strip())\n",
    "                    nick_name.append(list_name)\n",
    "    except FileNotFoundError:\n",
    "        print(\"读取文件出错\")\n",
    "    return nick_name\n",
    "def getNameList():\n",
    "    names = []\n",
    "    nick_name = []\n",
    "    names = readPersonName()\n",
    "    nick_name = readPersonNickName()\n",
    "    name_length = len(names)\n",
    "    nick_length = len(nick_name)\n",
    "    for i in range(name_length):\n",
    "        for j in range(nick_length):\n",
    "            if names[i] == nick_name[j][0]:\n",
    "                names[i] = nick_name[j]\n",
    "    return names\n",
    "def getNameFreq(names):\n",
    "    data = open(\"红楼梦.txt\",encoding=\"UTF-8\").read()\n",
    "    words = jieba.lcut(data)\n",
    "    name_dict = {}\n",
    "    for word in words:\n",
    "        for i in range(len(names)):\n",
    "            if type(names[i]) == list:\n",
    "                for j in range(0, len(names[i])):\n",
    "                    if word == names[i][j]:\n",
    "                        if names[i][0] in name_dict:\n",
    "                            name_dict[names[i][0]] += 1\n",
    "                        else:\n",
    "                            name_dict[names[i][0]] = 1\n",
    "            else:\n",
    "                if word == names[i]:\n",
    "                    if names[i] in name_dict:\n",
    "                        name_dict[names[i]] += 1\n",
    "                    else:\n",
    "                        name_dict[names[i]] = 1\n",
    "    return name_dict\n",
    "def getTop10(name_dict):\n",
    "    item=list(name_dict.items())\n",
    "    item.sort(key=lambda x:x[1],reverse=True)\n",
    "    for i in range(10):\n",
    "        word,count=item[i]\n",
    "        print(\"{0:<10}{1:>5}\".format(word,count))\n",
    "if __name__ == '__main__':\n",
    "    names = []\n",
    "    name_dict = []\n",
    "    names = getNameList()\n",
    "    #print(names)\n",
    "    name_dict = getNameFreq(names)\n",
    "    getTop10(name_dict)"
   ]
  },
  {
   "cell_type": "code",
   "execution_count": null,
   "metadata": {
    "collapsed": true
   },
   "outputs": [],
   "source": []
  }
 ],
 "metadata": {
  "anaconda-cloud": {},
  "kernelspec": {
   "display_name": "Python [conda root]",
   "language": "python",
   "name": "conda-root-py"
  },
  "language_info": {
   "codemirror_mode": {
    "name": "ipython",
    "version": 3
   },
   "file_extension": ".py",
   "mimetype": "text/x-python",
   "name": "python",
   "nbconvert_exporter": "python",
   "pygments_lexer": "ipython3",
   "version": "3.5.2"
  }
 },
 "nbformat": 4,
 "nbformat_minor": 1
}
